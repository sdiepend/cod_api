{
 "cells": [
  {
   "cell_type": "code",
   "execution_count": null,
   "id": "expensive-netscape",
   "metadata": {},
   "outputs": [],
   "source": [
    "import requests\n",
    "import os"
   ]
  },
  {
   "cell_type": "code",
   "execution_count": null,
   "id": "intended-democracy",
   "metadata": {},
   "outputs": [],
   "source": [
    "s = requests.Session()\n",
    "s.get('https://profile.callofduty.com/cod/login')\n",
    "data = {'username': os.environ.get('COD_EMAIL'), 'password': os.environ.get('COD_PW'), 'remember_me': 'true', '_csrf': s.cookies['XSRF-TOKEN']}\n",
    "dologin = s.post('https://profile.callofduty.com/do_login?new_SiteId=cod', params=data)"
   ]
  },
  {
   "cell_type": "code",
   "execution_count": null,
   "id": "compact-infection",
   "metadata": {},
   "outputs": [],
   "source": [
    "resp_profile = s.get('https://www.callofduty.com/api/papi-client/stats/cod/v1/title/mw/platform/uno/uno/14688938695022220470/profile/type/warzone')\n",
    "resp_profile.json()"
   ]
  },
  {
   "cell_type": "code",
   "execution_count": null,
   "id": "irish-burst",
   "metadata": {},
   "outputs": [],
   "source": []
  }
 ],
 "metadata": {
  "kernelspec": {
   "display_name": "Python 3",
   "language": "python",
   "name": "python3"
  },
  "language_info": {
   "codemirror_mode": {
    "name": "ipython",
    "version": 3
   },
   "file_extension": ".py",
   "mimetype": "text/x-python",
   "name": "python",
   "nbconvert_exporter": "python",
   "pygments_lexer": "ipython3",
   "version": "3.9.2"
  }
 },
 "nbformat": 4,
 "nbformat_minor": 5
}
