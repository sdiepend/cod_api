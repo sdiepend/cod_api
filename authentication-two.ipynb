{
 "cells": [
  {
   "cell_type": "markdown",
   "id": "ranging-reply",
   "metadata": {},
   "source": [
    "# Second Method of authentication"
   ]
  },
  {
   "cell_type": "markdown",
   "id": "exposed-sweet",
   "metadata": {},
   "source": [
    "## Short version (with session)"
   ]
  },
  {
   "cell_type": "markdown",
   "id": "heard-finnish",
   "metadata": {},
   "source": [
    "Import required python modules."
   ]
  },
  {
   "cell_type": "code",
   "execution_count": null,
   "id": "organized-gnome",
   "metadata": {},
   "outputs": [],
   "source": [
    "import requests\n",
    "import os"
   ]
  },
  {
   "cell_type": "markdown",
   "id": "expected-frederick",
   "metadata": {},
   "source": [
    "For the short version we are using the [Session](https://requests.readthedocs.io/en/master/user/advanced/#session-objects) functionality of the python requests module. Using a Session object will persist cookies across all requests.\n",
    "\n",
    "\n",
    "1. We start by creating a Session instance.  \n",
    "2. Open(GET request) the login page using the session instance this will persist the response cookies in the session\n",
    "3. Create dictionary with required params to login\n",
    "  * username/password: using os.environ.get to read the value from the \"Enviroment Variables\"\n",
    "  * Set remember_me to true\n",
    "  * _csrf: here we re-use the CSRF/XSRF token that was returned by the previous request  \n",
    "4. Do the POST request with the data as [url params](https://requests.readthedocs.io/en/master/user/quickstart/#passing-parameters-in-urls)"
   ]
  },
  {
   "cell_type": "code",
   "execution_count": null,
   "id": "intended-democracy",
   "metadata": {},
   "outputs": [],
   "source": [
    "s = requests.Session()\n",
    "s.get('https://profile.callofduty.com/cod/login')\n",
    "data = {'username': os.environ.get('COD_EMAIL'), \n",
    "        'password': os.environ.get('COD_PW'), \n",
    "        'remember_me': 'true', \n",
    "        '_csrf': s.cookies['XSRF-TOKEN']}\n",
    "s.post('https://profile.callofduty.com/do_login?new_SiteId=cod', params=data)"
   ]
  },
  {
   "cell_type": "markdown",
   "id": "elegant-cooperative",
   "metadata": {},
   "source": [
    "Test if the login worked by requesting private profile stats to see if we're properly authenticated."
   ]
  },
  {
   "cell_type": "code",
   "execution_count": null,
   "id": "compact-infection",
   "metadata": {},
   "outputs": [],
   "source": [
    "resp_profile = s.get('https://www.callofduty.com/api/papi-client/stats/cod/v1/title/mw/platform/uno/uno/14688938695022220470/profile/type/warzone')\n",
    "resp_profile.json()"
   ]
  },
  {
   "cell_type": "markdown",
   "id": "rural-modem",
   "metadata": {},
   "source": [
    "## Longer Version (without session)"
   ]
  },
  {
   "cell_type": "markdown",
   "id": "younger-geology",
   "metadata": {},
   "source": [
    "We get the login page and save the XSRF-TOKEN that is returned by the response and can be found in the response object. CSRF/XSRF tokens are used to prevent CSRF attacks: https://en.wikipedia.org/wiki/Cross-site_request_forgery"
   ]
  },
  {
   "cell_type": "code",
   "execution_count": null,
   "id": "exact-slovenia",
   "metadata": {},
   "outputs": [],
   "source": [
    "get_login = requests.get('https://profile.callofduty.com/cod/login')\n",
    "xsrf_token = get_login.cookies['XSRF-TOKEN']"
   ]
  },
  {
   "cell_type": "markdown",
   "id": "creative-assurance",
   "metadata": {},
   "source": [
    "Now that we have the XSRF token we can login and get the SSO tokens en ATKN tokens to do requests to private endpoints.\n",
    "1. Create dictionary with required params to login\n",
    "    * username/password: using os.environ.get to read the value from the \"Enviroment Variables\"\n",
    "    * Set remember_me to true\n",
    "    * _csrf: here we re-use the CSRF/XSRF token that was returned by the previous request\n",
    "2. Do the POST request with the data as url params AND also pass the cookies that you got from the previous request it will contain a cookie that has the XSRF-TOKEN.\n"
   ]
  },
  {
   "cell_type": "code",
   "execution_count": null,
   "id": "dying-hungarian",
   "metadata": {},
   "outputs": [],
   "source": [
    "data = {\n",
    "    'username': os.environ.get('COD_EMAIL'), \n",
    "    'password': os.environ.get('COD_PW'), \n",
    "    'remember_me': 'true', \n",
    "    '_csrf': xsrf_token\n",
    "}\n",
    "\n",
    "cookies = {\n",
    "    'XSRF-TOKEN':  xsrf_token,\n",
    "}\n",
    "\n",
    "post_login = requests.post('https://profile.callofduty.com/do_login?new_SiteId=cod', params=data, cookies=get_login.cookies)"
   ]
  },
  {
   "cell_type": "markdown",
   "id": "voluntary-pickup",
   "metadata": {},
   "source": [
    "Now we would expect the SSO tokens and ATKN to be in the response Cookies, unfortunately this is not case because in the response we are storing in \"post_login\" we've already been redirected twice and the post_login instance cookies won't contain the tokens."
   ]
  },
  {
   "cell_type": "code",
   "execution_count": null,
   "id": "racial-accommodation",
   "metadata": {},
   "outputs": [],
   "source": [
    "try: \n",
    "    post_login.cookies['ACT_SSO_COOKIE']\n",
    "    print(\"ACT_SSO_COOKIE found\")\n",
    "except KeyError:\n",
    "    print(\"ACT_SSO_COOKIE not found\")"
   ]
  },
  {
   "cell_type": "markdown",
   "id": "lightweight-washer",
   "metadata": {},
   "source": [
    "If you check the history of the response, you'll see there have been two previous response objects with status_code 302(redirect), if you check the cookies of the first response you'll find the tokens that we need."
   ]
  },
  {
   "cell_type": "code",
   "execution_count": null,
   "id": "correct-cloud",
   "metadata": {},
   "outputs": [],
   "source": [
    "post_login.history"
   ]
  },
  {
   "cell_type": "markdown",
   "id": "considerable-affair",
   "metadata": {},
   "source": [
    "If we check the first Response instance at index zero of the list you'll see that it contains the tokens we need."
   ]
  },
  {
   "cell_type": "code",
   "execution_count": null,
   "id": "innocent-charleston",
   "metadata": {},
   "outputs": [],
   "source": [
    "try: \n",
    "    post_login.history[0].cookies['ACT_SSO_COOKIE']\n",
    "    print(\"ACT_SSO_COOKIE found\")\n",
    "except KeyError:\n",
    "    print(\"ACT_SSO_COOKIE not found\")\n",
    "\n",
    "post_login.history[0].cookies"
   ]
  },
  {
   "cell_type": "markdown",
   "id": "respected-baking",
   "metadata": {},
   "source": [
    "As we only need the tokens of first response we could disable redirection in the post request adding the parameter allow_redirects=False"
   ]
  },
  {
   "cell_type": "code",
   "execution_count": null,
   "id": "split-glenn",
   "metadata": {},
   "outputs": [],
   "source": [
    "post_login_wo_redirect = requests.post('https://profile.callofduty.com/do_login?new_SiteId=cod', params=data, cookies=get_login.cookies, allow_redirects=False)"
   ]
  },
  {
   "cell_type": "markdown",
   "id": "outside-hometown",
   "metadata": {},
   "source": [
    "Test if the login worked by requesting private profile stats to see if we're properly authenticated.  \n",
    "We pass the cookies that were returned by the first response instance of the \"do_login\" call. These cookies contain the ACT_SSO_COOKIE & atkn values that are required by callofduty to prove that our client is authenticated to make this API call.\n",
    "The cookies also contain a ACT_SSO_COOKIE_EXPIRY value that will indicate when the token will expirty and we'll have to renew it or authenticate again."
   ]
  },
  {
   "cell_type": "code",
   "execution_count": null,
   "id": "former-player",
   "metadata": {},
   "outputs": [],
   "source": [
    "resp_profile = s.get('https://www.callofduty.com/api/papi-client/stats/cod/v1/title/mw/platform/uno/uno/14688938695022220470/profile/type/warzone', cookies=post_login_wo_redirect.cookies)\n",
    "resp_profile.json()"
   ]
  },
  {
   "cell_type": "code",
   "execution_count": null,
   "id": "interior-public",
   "metadata": {},
   "outputs": [],
   "source": []
  }
 ],
 "metadata": {
  "kernelspec": {
   "display_name": "Python 3",
   "language": "python",
   "name": "python3"
  },
  "language_info": {
   "codemirror_mode": {
    "name": "ipython",
    "version": 3
   },
   "file_extension": ".py",
   "mimetype": "text/x-python",
   "name": "python",
   "nbconvert_exporter": "python",
   "pygments_lexer": "ipython3",
   "version": "3.8.2"
  }
 },
 "nbformat": 4,
 "nbformat_minor": 5
}
