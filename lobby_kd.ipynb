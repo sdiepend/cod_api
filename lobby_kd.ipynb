{
 "cells": [
  {
   "cell_type": "code",
   "execution_count": null,
   "metadata": {},
   "outputs": [],
   "source": [
    "import requests\n",
    "import random\n",
    "import os\n",
    "import time\n",
    "import math\n",
    "import numpy as np\n",
    "import matplotlib.pyplot as plt\n",
    "%matplotlib inline"
   ]
  },
  {
   "cell_type": "markdown",
   "metadata": {},
   "source": [
    "To access the COD API We need to generate a random device id and then register it. I suppose this is a security measure? We'll need this device Id in future API calls where authentication is required.\n",
    "\n",
    "We'll also get an access token in return that we will need."
   ]
  },
  {
   "cell_type": "code",
   "execution_count": null,
   "metadata": {},
   "outputs": [],
   "source": [
    "device_id = hex(random.getrandbits(128)).lstrip(\"0x\")\n",
    "payload =  {\"deviceId\": device_id}\n",
    "resp = requests.post('https://profile.callofduty.com/cod/mapp/registerDevice', json=payload)\n",
    "\n",
    "access_token = resp.json()['data']['authHeader']"
   ]
  },
  {
   "cell_type": "code",
   "execution_count": null,
   "metadata": {},
   "outputs": [],
   "source": [
    "headers = {\n",
    "    \"Authorization\": f\"Bearer {access_token}\",\n",
    "    \"x_cod_device_id\" : device_id,\n",
    "}\n",
    "\n",
    "data = {'email': os.environ.get('COD_EMAIL'), 'password': os.environ.get('COD_PW')}\n",
    "\n",
    "resp_login = requests.post('https://profile.callofduty.com/cod/mapp/login', headers=headers, json=data)"
   ]
  },
  {
   "cell_type": "code",
   "execution_count": null,
   "metadata": {},
   "outputs": [],
   "source": [
    "resp_login.cookies"
   ]
  },
  {
   "cell_type": "code",
   "execution_count": null,
   "metadata": {},
   "outputs": [],
   "source": [
    "resp_login.json()"
   ]
  },
  {
   "cell_type": "code",
   "execution_count": null,
   "metadata": {},
   "outputs": [],
   "source": [
    "match_id = \"3726192899756849207\"\n",
    "team_mates = {\"Vio\": \"14688938695022220470\", \"Bublous\": \"1860799185863297602\"}\n",
    "#, \"Uncarriable\": '5291500827578550226'\n",
    "#team_mates = {\"Huskerrs\": \"11946786255256953231\", \"Symfuhny\": \"4864369508081987227\", \"ZLaner\": \"5499179043424889056\"}\n",
    "#team_mates = {\"BookaShade\": \"16503230311151154188\"}\n",
    "#team_mates = {\"Huskerrs\": \"11946786255256953231\", \"ZLaner\": \"5499179043424889056\", \"OakBoi\": \"1506652682349281517\", \"AydaN\": \"6466570850733519449\"}\n",
    "#team_mates = {\"ZLaner\": \"5499179043424889056\", \"Destroy\": \"13121215955392487462\", \"Trash_Fue\": \"9516497865377061135\", \"SuperEvan\": \"3099898901879856705\"}"
   ]
  },
  {
   "cell_type": "code",
   "execution_count": null,
   "metadata": {},
   "outputs": [],
   "source": [
    "lobby_data = requests.get('https://my.callofduty.com/api/papi-client/crm/cod/v2/title/mw/platform/battle/fullMatch/wz/' + match_id + '/it')"
   ]
  },
  {
   "cell_type": "code",
   "execution_count": null,
   "metadata": {},
   "outputs": [],
   "source": [
    "lobby_players = lobby_data.json()['data']['allPlayers']\n",
    "lobby_players"
   ]
  },
  {
   "cell_type": "code",
   "execution_count": null,
   "metadata": {},
   "outputs": [],
   "source": [
    "kds = []\n",
    "lobby_players_full = []\n",
    "team = \"\"\n",
    "teamPlacement = \"\"\n",
    "team_stats = {}\n",
    "for player in lobby_players:\n",
    "    time.sleep(0.2)\n",
    "    if player['player']['uno'] in team_mates.values():\n",
    "        team = player['player']['team']\n",
    "        team_placement = player['playerStats']['teamPlacement']\n",
    "        team_stats[player['player']['username']] = [player['playerStats']['kills']]\n",
    "    resp = requests.get('https://www.callofduty.com/api/papi-client/stats/cod/v1/title/mw/platform/uno/uno/' + str(player['player']['uno']) + '/profile/type/warzone', headers=headers, cookies=resp_login.cookies)\n",
    "    kds.append(resp.json()['data']['lifetime']['mode']['br']['properties']['kdRatio'])\n",
    "    lobby_players_full.append(resp.json()['data'])\n",
    "    print(kds)\n",
    "kds"
   ]
  },
  {
   "cell_type": "code",
   "execution_count": null,
   "metadata": {},
   "outputs": [],
   "source": [
    "plt.hist(kds, density=True, bins=50)\n",
    "plt.xlabel(\"KD\")\n",
    "plt.ylabel(\"#Players\")"
   ]
  },
  {
   "cell_type": "code",
   "execution_count": null,
   "metadata": {},
   "outputs": [],
   "source": [
    "avg = round(sum(kds)/len(kds), 2)\n",
    "math.floor(len(kds)/2)\n",
    "median = round(sorted(kds)[math.floor(len(kds)/2)], 2)\n",
    "kd_min = round(min(kds), 2)\n",
    "kd_max = round(max(kds), 2)\n",
    "top_ten = [round(kd, 2) for kd in sorted(kds)[math.floor(len(kds) * (80/100)):len(kds)]]\n",
    "print(\"Game ID: \" + match_id)\n",
    "print(\"Team Placement: \" + str(team_placement))\n",
    "print(\"Team Kills\")\n",
    "print(team_stats)\n",
    "print(\"Lobby Stats\")\n",
    "print(\"Average KD: \" + str(avg))\n",
    "print(\"Median KD: \" + str(median))\n",
    "print(\"Worst KD: \" + str(kd_min))\n",
    "print(\"Best KD:\" + str(kd_max))\n",
    "print(\"Top 20% KD: \" + str([x for x in top_ten]))\n"
   ]
  },
  {
   "cell_type": "code",
   "execution_count": null,
   "metadata": {},
   "outputs": [],
   "source": [
    "sorted_kds = sorted(kds)"
   ]
  },
  {
   "cell_type": "code",
   "execution_count": null,
   "metadata": {},
   "outputs": [],
   "source": [
    "sorted_kds = sorted_kds[:-4]\n",
    "adj_avg = round(sum(sorted_kds)/len(sorted_kds), 2)\n",
    "print(sorted_kds[-1])\n",
    "print(len(sorted_kds))\n",
    "print(adj_avg)"
   ]
  },
  {
   "cell_type": "code",
   "execution_count": null,
   "metadata": {},
   "outputs": [],
   "source": [
    "max(kds)"
   ]
  },
  {
   "cell_type": "code",
   "execution_count": null,
   "metadata": {},
   "outputs": [],
   "source": [
    "min(kds)"
   ]
  },
  {
   "cell_type": "code",
   "execution_count": null,
   "metadata": {},
   "outputs": [],
   "source": []
  },
  {
   "cell_type": "code",
   "execution_count": null,
   "metadata": {},
   "outputs": [],
   "source": [
    "np.var(kds)"
   ]
  },
  {
   "cell_type": "code",
   "execution_count": null,
   "metadata": {},
   "outputs": [],
   "source": [
    "resp_profile = requests.get('https://www.callofduty.com/api/papi-client/stats/cod/v1/title/mw/platform/uno/uno/12035878875057403705/profile/type/warzone', headers=headers, cookies=resp_login.cookies)\n",
    "resp_profile.json()"
   ]
  },
  {
   "cell_type": "markdown",
   "metadata": {},
   "source": []
  },
  {
   "cell_type": "code",
   "execution_count": null,
   "metadata": {},
   "outputs": [],
   "source": [
    "resp_profile.json()['data']['lifetime']['mode']['br']['properties']['kdRatio']"
   ]
  },
  {
   "cell_type": "code",
   "execution_count": null,
   "metadata": {},
   "outputs": [],
   "source": [
    "'https://my.callofduty.com/api/papi-client/crm/cod/v2/title/mw/platform/uno/uno/4066176156082092197/matches/wz/start/0/end/0/details' \\\n",
    "--header 'Cookie: ACT_SSO_COOKIE=Set by test scripts; ACT_SSO_COOKIE_EXPIRY=1591153892430; atkn=Set by test scripts;'"
   ]
  },
  {
   "cell_type": "code",
   "execution_count": null,
   "metadata": {},
   "outputs": [],
   "source": [
    "resp_profile = requests.get('https://www.callofduty.com/api/papi-client/stats/cod/v1/title/mw/platform/psn/gamer/Viioozz/profile/type/warzone', headers=headers, cookies=resp_login.cookies)\n",
    "resp_profile.json()"
   ]
  },
  {
   "cell_type": "code",
   "execution_count": null,
   "metadata": {},
   "outputs": [],
   "source": []
  }
 ],
 "metadata": {
  "kernelspec": {
   "display_name": "Python 3",
   "language": "python",
   "name": "python3"
  },
  "language_info": {
   "codemirror_mode": {
    "name": "ipython",
    "version": 3
   },
   "file_extension": ".py",
   "mimetype": "text/x-python",
   "name": "python",
   "nbconvert_exporter": "python",
   "pygments_lexer": "ipython3",
   "version": "3.8.2"
  }
 },
 "nbformat": 4,
 "nbformat_minor": 4
}
