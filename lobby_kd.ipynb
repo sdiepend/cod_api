{
 "cells": [
  {
   "cell_type": "markdown",
   "metadata": {},
   "source": [
    "# Warzone Lobby Stats"
   ]
  },
  {
   "cell_type": "code",
   "execution_count": null,
   "metadata": {},
   "outputs": [],
   "source": [
    "import requests\n",
    "import urllib.parse\n",
    "import random\n",
    "import os\n",
    "import pandas as pd\n",
    "import time\n",
    "import math\n",
    "import numpy as np\n",
    "import matplotlib.pyplot as plt\n",
    "%matplotlib inline"
   ]
  },
  {
   "cell_type": "markdown",
   "metadata": {},
   "source": [
    "Authentication: See the other two notebooks and videos on authentication."
   ]
  },
  {
   "cell_type": "code",
   "execution_count": null,
   "metadata": {},
   "outputs": [],
   "source": [
    "s = requests.Session()\n",
    "s.get('https://profile.callofduty.com/cod/login')\n",
    "data = {'username': os.environ.get('COD_EMAIL'), \n",
    "        'password': os.environ.get('COD_PW'), \n",
    "        'remember_me': 'true', \n",
    "        '_csrf': s.cookies['XSRF-TOKEN']}\n",
    "s.post('https://profile.callofduty.com/do_login?new_SiteId=cod', params=data)"
   ]
  },
  {
   "cell_type": "code",
   "execution_count": null,
   "metadata": {},
   "outputs": [],
   "source": []
  },
  {
   "cell_type": "code",
   "execution_count": null,
   "metadata": {},
   "outputs": [],
   "source": [
    "match_id = \"3726192899756849207\"\n",
    "team_mates = {\"Vio\": \"14688938695022220470\", \"Bublous\": \"1860799185863297602\"}\n",
    "#, \"Uncarriable\": '5291500827578550226'\n",
    "#team_mates = {\"Huskerrs\": \"11946786255256953231\", \"Symfuhny\": \"4864369508081987227\", \"ZLaner\": \"5499179043424889056\"}\n",
    "#team_mates = {\"BookaShade\": \"16503230311151154188\"}\n",
    "#team_mates = {\"Huskerrs\": \"11946786255256953231\", \"ZLaner\": \"5499179043424889056\", \"OakBoi\": \"1506652682349281517\", \"AydaN\": \"6466570850733519449\"}\n",
    "#team_mates = {\"ZLaner\": \"5499179043424889056\", \"Destroy\": \"13121215955392487462\", \"Trash_Fue\": \"9516497865377061135\", \"SuperEvan\": \"3099898901879856705\"}"
   ]
  },
  {
   "cell_type": "markdown",
   "metadata": {},
   "source": [
    "In january after some outcry about sbmmwarzone.com Activision decided to put all COD Profiles privacy on private. What this means is that getting a users profile data using their \"uno\" is not possible anymore. This was an easy way to calculate the average lobby kd because in the match endpoint all the players uno's were returned. Now even after a user sets it's profile to public you won't be able to get info about this user, only when he/she is your friend it's still possible."
   ]
  },
  {
   "cell_type": "markdown",
   "metadata": {},
   "source": [
    "Get data from a match/lobby:"
   ]
  },
  {
   "cell_type": "code",
   "execution_count": null,
   "metadata": {},
   "outputs": [],
   "source": [
    "lobby_data = s.get('https://my.callofduty.com/api/papi-client/crm/cod/v2/title/mw/platform/battle/fullMatch/wz/' + match_id + '/it')"
   ]
  },
  {
   "cell_type": "code",
   "execution_count": null,
   "metadata": {},
   "outputs": [],
   "source": [
    "lobby_data.json()['data']"
   ]
  },
  {
   "cell_type": "code",
   "execution_count": null,
   "metadata": {},
   "outputs": [],
   "source": [
    "lobby_data.json()['data']['allPlayers'][0]"
   ]
  },
  {
   "cell_type": "code",
   "execution_count": null,
   "metadata": {},
   "outputs": [],
   "source": [
    "#username = urllib.parse.quote(\"Weixo En Nike\")\n",
    "username = urllib.parse.quote(\"Viioozz\")\n",
    "username"
   ]
  },
  {
   "cell_type": "code",
   "execution_count": null,
   "metadata": {},
   "outputs": [],
   "source": [
    "search_resp = s.get(f'https://my.callofduty.com/api/papi-client/crm/cod/v2/platform/uno/username/{ username }/search')\n",
    "search_resp.json()"
   ]
  },
  {
   "cell_type": "code",
   "execution_count": null,
   "metadata": {},
   "outputs": [],
   "source": []
  },
  {
   "cell_type": "code",
   "execution_count": null,
   "metadata": {},
   "outputs": [],
   "source": [
    "lobby_players = lobby_data.json()['data']['allPlayers']\n",
    "lobby_players_df = pd.DataFrame.from_records(lobby_players)\n",
    "lobby_players_df.info()"
   ]
  },
  {
   "cell_type": "code",
   "execution_count": null,
   "metadata": {},
   "outputs": [],
   "source": [
    "lobby_players_df['playerStats']"
   ]
  },
  {
   "cell_type": "code",
   "execution_count": null,
   "metadata": {},
   "outputs": [],
   "source": [
    "lobby_players_df = pd.DataFrame.from_records(lobby_players_df['playerStats'])\n",
    "lobby_players_df"
   ]
  },
  {
   "cell_type": "code",
   "execution_count": null,
   "metadata": {},
   "outputs": [],
   "source": [
    "lobby_players_df.info()"
   ]
  },
  {
   "cell_type": "code",
   "execution_count": null,
   "metadata": {},
   "outputs": [],
   "source": [
    "lobby_players_df.describe()"
   ]
  },
  {
   "cell_type": "code",
   "execution_count": null,
   "metadata": {},
   "outputs": [],
   "source": [
    "resp = s.get('https://www.callofduty.com/api/papi-client/stats/cod/v1/title/mw/platform/uno/uno/' + str(lobby_players[43]['player']['uno']) + '/profile/type/warzone')"
   ]
  },
  {
   "cell_type": "code",
   "execution_count": null,
   "metadata": {
    "scrolled": true
   },
   "outputs": [],
   "source": [
    "resp.json()"
   ]
  },
  {
   "cell_type": "code",
   "execution_count": null,
   "metadata": {},
   "outputs": [],
   "source": [
    "kds = []\n",
    "lobby_players_full = []\n",
    "team = \"\"\n",
    "teamPlacement = \"\"\n",
    "team_stats = {}\n",
    "for player in lobby_players:\n",
    "    time.sleep(0.2)\n",
    "    if player['player']['uno'] in team_mates.values():\n",
    "        team = player['player']['team']\n",
    "        team_placement = player['playerStats']['teamPlacement']\n",
    "        team_stats[player['player']['username']] = [player['playerStats']['kills']]\n",
    "    resp = requests.get('https://www.callofduty.com/api/papi-client/stats/cod/v1/title/mw/platform/uno/uno/' + str(player['player']['uno']) + '/profile/type/warzone', headers=headers, cookies=resp_login.cookies)\n",
    "#    try resp.json()['data'].get('message', ) == \"Not permitted: not allowed\":\n",
    "#        kds.append('NA')\n",
    "#    catch:\n",
    "    kds.append(resp.json().get('data', {}).get('lifetime', {}).get('mode', {}).get('br', {}).get('properties', {}).get('kdRatio'))\n",
    "    lobby_players_full.append(resp.json()['data'])\n",
    "kds"
   ]
  },
  {
   "cell_type": "code",
   "execution_count": null,
   "metadata": {},
   "outputs": [],
   "source": [
    "len(kds)"
   ]
  },
  {
   "cell_type": "code",
   "execution_count": null,
   "metadata": {},
   "outputs": [],
   "source": [
    "plt.hist(kds, density=True, bins=50)\n",
    "plt.xlabel(\"KD\")\n",
    "plt.ylabel(\"#Players\")"
   ]
  },
  {
   "cell_type": "code",
   "execution_count": null,
   "metadata": {},
   "outputs": [],
   "source": [
    "avg = round(sum(kds)/len(kds), 2)\n",
    "math.floor(len(kds)/2)\n",
    "median = round(sorted(kds)[math.floor(len(kds)/2)], 2)\n",
    "kd_min = round(min(kds), 2)\n",
    "kd_max = round(max(kds), 2)\n",
    "top_ten = [round(kd, 2) for kd in sorted(kds)[math.floor(len(kds) * (80/100)):len(kds)]]\n",
    "print(\"Game ID: \" + match_id)\n",
    "print(\"Team Placement: \" + str(team_placement))\n",
    "print(\"Team Kills\")\n",
    "print(team_stats)\n",
    "print(\"Lobby Stats\")\n",
    "print(\"Average KD: \" + str(avg))\n",
    "print(\"Median KD: \" + str(median))\n",
    "print(\"Worst KD: \" + str(kd_min))\n",
    "print(\"Best KD:\" + str(kd_max))\n",
    "print(\"Top 20% KD: \" + str([x for x in top_ten]))\n"
   ]
  },
  {
   "cell_type": "code",
   "execution_count": null,
   "metadata": {},
   "outputs": [],
   "source": [
    "sorted_kds = sorted(kds)"
   ]
  },
  {
   "cell_type": "code",
   "execution_count": null,
   "metadata": {},
   "outputs": [],
   "source": [
    "sorted_kds = sorted_kds[:-4]\n",
    "adj_avg = round(sum(sorted_kds)/len(sorted_kds), 2)\n",
    "print(sorted_kds[-1])\n",
    "print(len(sorted_kds))\n",
    "print(adj_avg)"
   ]
  },
  {
   "cell_type": "code",
   "execution_count": null,
   "metadata": {},
   "outputs": [],
   "source": [
    "max(kds)"
   ]
  },
  {
   "cell_type": "code",
   "execution_count": null,
   "metadata": {},
   "outputs": [],
   "source": [
    "min(kds)"
   ]
  },
  {
   "cell_type": "code",
   "execution_count": null,
   "metadata": {},
   "outputs": [],
   "source": []
  },
  {
   "cell_type": "code",
   "execution_count": null,
   "metadata": {},
   "outputs": [],
   "source": [
    "np.var(kds)"
   ]
  },
  {
   "cell_type": "code",
   "execution_count": null,
   "metadata": {},
   "outputs": [],
   "source": [
    "resp_profile = requests.get('https://www.callofduty.com/api/papi-client/stats/cod/v1/title/mw/platform/uno/uno/12035878875057403705/profile/type/warzone', headers=headers, cookies=resp_login.cookies)\n",
    "resp_profile.json()"
   ]
  },
  {
   "cell_type": "code",
   "execution_count": null,
   "metadata": {},
   "outputs": [],
   "source": [
    "resp_profile_pub = requests.get('https://www.callofduty.com/api/papi-client/stats/cod/v1/title/mw/platform/uno/uno/14688938695022220470/profile/type/warzone', headers=headers, cookies=resp_login.cookies)\n",
    "resp_profile_pub.json()"
   ]
  },
  {
   "cell_type": "markdown",
   "metadata": {},
   "source": []
  },
  {
   "cell_type": "code",
   "execution_count": null,
   "metadata": {},
   "outputs": [],
   "source": [
    "resp_profile_pub.json()['data']['lifetime']['mode']['br']['properties']['kdRatio']"
   ]
  },
  {
   "cell_type": "code",
   "execution_count": null,
   "metadata": {},
   "outputs": [],
   "source": [
    "'https://my.callofduty.com/api/papi-client/crm/cod/v2/title/mw/platform/uno/uno/4066176156082092197/matches/wz/start/0/end/0/details' \\\n",
    "--header 'Cookie: ACT_SSO_COOKIE=Set by test scripts; ACT_SSO_COOKIE_EXPIRY=1591153892430; atkn=Set by test scripts;'"
   ]
  },
  {
   "cell_type": "code",
   "execution_count": null,
   "metadata": {},
   "outputs": [],
   "source": [
    "resp_profile = requests.get('https://www.callofduty.com/api/papi-client/stats/cod/v1/title/mw/platform/psn/gamer/Viioozz/profile/type/warzone', headers=headers, cookies=resp_login.cookies)\n",
    "resp_profile.json()"
   ]
  },
  {
   "cell_type": "code",
   "execution_count": null,
   "metadata": {},
   "outputs": [],
   "source": []
  }
 ],
 "metadata": {
  "kernelspec": {
   "display_name": "Python 3",
   "language": "python",
   "name": "python3"
  },
  "language_info": {
   "codemirror_mode": {
    "name": "ipython",
    "version": 3
   },
   "file_extension": ".py",
   "mimetype": "text/x-python",
   "name": "python",
   "nbconvert_exporter": "python",
   "pygments_lexer": "ipython3",
   "version": "3.8.2"
  }
 },
 "nbformat": 4,
 "nbformat_minor": 4
}
