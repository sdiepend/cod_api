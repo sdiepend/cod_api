{
 "cells": [
  {
   "cell_type": "markdown",
   "metadata": {},
   "source": [
    "# How to authenticate to the COD API."
   ]
  },
  {
   "cell_type": "markdown",
   "metadata": {},
   "source": [
    "Import the necessary libraries.  \n",
    "We'll use requests for doing our HTTP API calls.  \n",
    "The package random is used to generate a random device Id."
   ]
  },
  {
   "cell_type": "code",
   "execution_count": null,
   "metadata": {},
   "outputs": [],
   "source": [
    "import requests\n",
    "import random\n",
    "import os"
   ]
  },
  {
   "cell_type": "markdown",
   "metadata": {},
   "source": [
    "The first step in authenticating against the COD API is to generate a random device ID and register it. This will return an authorization_token that we'll have to use in subsequent API calls."
   ]
  },
  {
   "cell_type": "code",
   "execution_count": null,
   "metadata": {},
   "outputs": [],
   "source": [
    "device_id = hex(random.getrandbits(128)).lstrip(\"0x\")\n",
    "payload =  {\"deviceId\": device_id}\n",
    "resp = requests.post('https://profile.callofduty.com/cod/mapp/registerDevice', json=payload)\n",
    "\n",
    "auth_token = resp.json()['data']['authHeader']"
   ]
  },
  {
   "cell_type": "markdown",
   "metadata": {},
   "source": [
    "Next up is actually loggin in. Add the authorization token and your device Id to the relevant headers.  \n",
    "Use your email and password to login. Here I read my email and password from an environment variable that I exported in my terminal. If you don't know what this just type in your email and password directly. "
   ]
  },
  {
   "cell_type": "code",
   "execution_count": null,
   "metadata": {},
   "outputs": [],
   "source": [
    "headers = {\n",
    "    \"Authorization\": f\"Bearer {auth_token}\",\n",
    "    \"x_cod_device_id\" : device_id,\n",
    "}\n",
    "\n",
    "data = {'email': os.environ.get('COD_EMAIL'), 'password': os.environ.get('COD_PW')}\n",
    "# data = {'email': 'YourEmail', 'password': 'YourSuperSecretPassword'}\n",
    "\n",
    "resp_login = requests.post('https://profile.callofduty.com/cod/mapp/login', headers=headers, json=data)"
   ]
  },
  {
   "cell_type": "markdown",
   "metadata": {},
   "source": [
    "Example: Get your profile data based on your uno."
   ]
  },
  {
   "cell_type": "code",
   "execution_count": null,
   "metadata": {},
   "outputs": [],
   "source": [
    "resp_profile = requests.get('https://www.callofduty.com/api/papi-client/stats/cod/v1/title/mw/platform/uno/uno/14688938695022220470/profile/type/warzone', headers=headers, cookies=resp_login.cookies)\n",
    "resp_profile.json()"
   ]
  }
 ],
 "metadata": {
  "kernelspec": {
   "display_name": "Python 3",
   "language": "python",
   "name": "python3"
  },
  "language_info": {
   "codemirror_mode": {
    "name": "ipython",
    "version": 3
   },
   "file_extension": ".py",
   "mimetype": "text/x-python",
   "name": "python",
   "nbconvert_exporter": "python",
   "pygments_lexer": "ipython3",
   "version": "3.8.2"
  }
 },
 "nbformat": 4,
 "nbformat_minor": 2
}
