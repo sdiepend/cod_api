{
 "cells": [
  {
   "cell_type": "markdown",
   "id": "absolute-malta",
   "metadata": {},
   "source": []
  },
  {
   "cell_type": "code",
   "execution_count": null,
   "id": "organized-budapest",
   "metadata": {},
   "outputs": [],
   "source": [
    "import os\n",
    "import requests"
   ]
  },
  {
   "cell_type": "code",
   "execution_count": null,
   "id": "domestic-drinking",
   "metadata": {},
   "outputs": [],
   "source": [
    "sso_token = os.environ.get('SSO_TOKEN')\n",
    "cookies={\"ACT_SSO_COOKIE\": sso_token}"
   ]
  },
  {
   "cell_type": "code",
   "execution_count": null,
   "id": "tight-charm",
   "metadata": {},
   "outputs": [],
   "source": []
  },
  {
   "cell_type": "code",
   "execution_count": null,
   "id": "dated-douglas",
   "metadata": {},
   "outputs": [],
   "source": [
    "resp_profile = requests.get('https://www.callofduty.com/api/papi-client/crm/cod/v2/title/mw/platform/xbl/gamer/coltie119/matches/wz/start/0/end/0/details', cookies=cookies)\n",
    "uno = resp_profile.json()['data']['matches'][0]['player']['uno']"
   ]
  },
  {
   "cell_type": "code",
   "execution_count": null,
   "id": "perfect-deadline",
   "metadata": {},
   "outputs": [],
   "source": [
    "print(uno)"
   ]
  },
  {
   "cell_type": "code",
   "execution_count": null,
   "id": "reported-formula",
   "metadata": {},
   "outputs": [],
   "source": [
    "uno_profile = requests.get(f'https://www.callofduty.com/api/papi-client/stats/cod/v1/title/mw/platform/uno/uno/{uno}/profile/type/warzone', cookies=cookies)"
   ]
  },
  {
   "cell_type": "code",
   "execution_count": null,
   "id": "shaped-harmony",
   "metadata": {},
   "outputs": [],
   "source": [
    "uno_profile.json()"
   ]
  },
  {
   "cell_type": "code",
   "execution_count": null,
   "id": "virtual-alias",
   "metadata": {},
   "outputs": [],
   "source": [
    "uno_matches = requests.get(f'https://www.callofduty.com/api/papi-client/crm/cod/v2/title/mw/platform/uno/uno/{uno}/matches/wz/start/0/end/0/', cookies=cookies)"
   ]
  },
  {
   "cell_type": "code",
   "execution_count": null,
   "id": "running-stretch",
   "metadata": {},
   "outputs": [],
   "source": [
    "uno_matches.json()"
   ]
  },
  {
   "cell_type": "code",
   "execution_count": null,
   "id": "capital-valve",
   "metadata": {},
   "outputs": [],
   "source": [
    "uno_matches = requests.get(f'https://www.callofduty.com/api/papi-client/crm/cod/v2/title/mw/platform/uno/uno/{uno}/matches/wz/start/0/end/0/', cookies=cookies)"
   ]
  }
 ],
 "metadata": {
  "kernelspec": {
   "display_name": "Python 3",
   "language": "python",
   "name": "python3"
  },
  "language_info": {
   "codemirror_mode": {
    "name": "ipython",
    "version": 3
   },
   "file_extension": ".py",
   "mimetype": "text/x-python",
   "name": "python",
   "nbconvert_exporter": "python",
   "pygments_lexer": "ipython3",
   "version": "3.8.2"
  }
 },
 "nbformat": 4,
 "nbformat_minor": 5
}
