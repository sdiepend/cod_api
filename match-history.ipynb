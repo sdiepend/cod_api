{
 "cells": [
  {
   "cell_type": "code",
   "execution_count": null,
   "metadata": {},
   "outputs": [],
   "source": [
    "import requests\n",
    "import random\n",
    "import time\n",
    "import os\n",
    "import urllib.parse\n",
    "import pandas as pd\n",
    "from datetime import datetime\n",
    "pd.set_option('display.max_rows', 1000)"
   ]
  },
  {
   "cell_type": "code",
   "execution_count": null,
   "metadata": {},
   "outputs": [],
   "source": [
    "s = requests.Session()\n",
    "s.get('https://profile.callofduty.com/cod/login')\n",
    "data = {'username': os.environ.get('COD_EMAIL'), \n",
    "        'password': os.environ.get('COD_PW'), \n",
    "        'remember_me': 'true', \n",
    "        '_csrf': s.cookies['XSRF-TOKEN']}\n",
    "s.post('https://profile.callofduty.com/do_login?new_SiteId=cod', params=data)"
   ]
  },
  {
   "cell_type": "markdown",
   "metadata": {},
   "source": [
    "The matches endpoint is made up of different parts  \n",
    "https://my.callofduty.com/api/papi-client/crm/cod/:version/title/:game/platform/:platform/gamer/:username/matches/:mode/start/:start/end/:end/details\n",
    "\n",
    "### Version\n",
    "API Version - Mostly v2 should work for Warzone.\n",
    "\n",
    "### game\n",
    "Game - \"mw\" for Modern Warfare, \"wwii\" for WWII, \"bo4\" for Black Ops 4\n",
    "\n",
    "### platform\n",
    "Platform associated with username - \"uno\" for Activision, \"battle\" for Battle.net, psn for Playstation, xbl for XBOX Live \"steam\" for WWII\n",
    "\n",
    "### username\n",
    "URI encoded string of the platform-specific username (eg: Viioozz for my psn)\n",
    "\n",
    "### mode\n",
    "Game Mode - \"wz\" for Warzone or \"mp\" for Multiplayer\n",
    "\n",
    "### start\n",
    "UNIX Timestamp\n",
    "\n",
    "Can remain at 0, or unless you want only the games between certain timeframes, can be interesting for killrace like tournamements where only the games during a certain time window count. Defaults to 0.\n",
    "\n",
    "### end\n",
    "UNIX Timestamp in milliseconds, defaults to 0\n"
   ]
  },
  {
   "cell_type": "markdown",
   "metadata": {},
   "source": [
    "Let's call the api without providing timestamps:"
   ]
  },
  {
   "cell_type": "code",
   "execution_count": null,
   "metadata": {},
   "outputs": [],
   "source": [
    "latest_matches_response = s.get('https://www.callofduty.com/api/papi-client/crm/cod/v2/title/mw/platform/xbl/gamer/coltie119/matches/wz/start/0/end/0/')\n",
    "latest_matches_response.json()"
   ]
  },
  {
   "cell_type": "markdown",
   "metadata": {},
   "source": [
    "You'll see that you get a summary of the latest 20 games by default. If you want the details of every game you have to add '/details' to the endpoint."
   ]
  },
  {
   "cell_type": "code",
   "execution_count": null,
   "metadata": {
    "scrolled": false
   },
   "outputs": [],
   "source": [
    "latest_matches_response = s.get('https://www.callofduty.com/api/papi-client/crm/cod/v2/title/mw/platform/psn/gamer/Viioozz/matches/wz/start/0/end/0/details')\n",
    "latest_matches_response.json()"
   ]
  },
  {
   "cell_type": "markdown",
   "metadata": {},
   "source": [
    "## URL Encode\n",
    "\n",
    "If you want to use other platforms like battle.net, keep in mind you'll have to url encode the username if they contain a hash symbol for example or other 'special' characters."
   ]
  },
  {
   "cell_type": "code",
   "execution_count": null,
   "metadata": {},
   "outputs": [],
   "source": [
    "username = 'Viöo$'\n",
    "urllib.parse.quote(nickname)"
   ]
  },
  {
   "cell_type": "code",
   "execution_count": null,
   "metadata": {},
   "outputs": [],
   "source": [
    "username = 'Vioo#21794'\n",
    "urllib.parse.quote(nickname)"
   ]
  },
  {
   "cell_type": "code",
   "execution_count": null,
   "metadata": {},
   "outputs": [],
   "source": [
    "s.get('https://www.callofduty.com/api/papi-client/crm/cod/v2/title/mw/platform/battle/gamer/{username}/matches/wz/start/0/end/0')"
   ]
  },
  {
   "cell_type": "markdown",
   "metadata": {},
   "source": [
    "## UNIX Timestamps\n",
    "\n",
    "Unix time is a system for describing a point in time. It is the number of seconds that have elapsed since the Unix epoch, minus leap seconds; the Unix epoch is 00:00:00 UTC on 1 January 1970. It's a way of encoding time in a numeric way.\n",
    "\n",
    "Let's get the current time and use it to call the API.\n",
    "\n",
    "! Keep in mind, for the api we need MILLISECONDS, so we multiply by 1000."
   ]
  },
  {
   "cell_type": "code",
   "execution_count": null,
   "metadata": {},
   "outputs": [],
   "source": [
    "current_ts = int(time.time() * 1000)\n",
    "current_ts"
   ]
  },
  {
   "cell_type": "code",
   "execution_count": null,
   "metadata": {},
   "outputs": [],
   "source": [
    "resp_matches = s.get(f'https://www.callofduty.com/api/papi-client/crm/cod/v2/title/mw/platform/psn/gamer/Viioozz/matches/wz/start/0/end/{current_ts}/details?limit=20')"
   ]
  },
  {
   "cell_type": "code",
   "execution_count": null,
   "metadata": {},
   "outputs": [],
   "source": [
    "matches = resp_matches.json()['data']['matches']"
   ]
  },
  {
   "cell_type": "code",
   "execution_count": null,
   "metadata": {},
   "outputs": [],
   "source": [
    "len(matches)"
   ]
  },
  {
   "cell_type": "code",
   "execution_count": null,
   "metadata": {},
   "outputs": [],
   "source": [
    "matches"
   ]
  },
  {
   "cell_type": "markdown",
   "metadata": {
    "scrolled": true
   },
   "source": [
    "## Entire Match History\n",
    "\n",
    "How to pull all your matches as we only have 20 in one response. The way I solved this is to write a while loop that goes through my match history and stops when less than 20 matches are in a response meaning we are pulling in the last batch.  \n",
    "For every subsequent call I use the timestamp of the latest game in the response as the 'end' parameter, so then I get all 20 matches before that last game."
   ]
  },
  {
   "cell_type": "code",
   "execution_count": null,
   "metadata": {},
   "outputs": [],
   "source": [
    "tsLastGame = '0'\n",
    "matchesFound = True\n",
    "matches = []\n",
    "while matchesFound:\n",
    "    resp_matches = s.get('https://www.callofduty.com/api/papi-client/crm/cod/v2/title/mw/platform/battle/gamer/Vioo%2321794/matches/wz/start/0/end/' + str(tsLastGame) + '000/details?limit=20')\n",
    "    if len(resp_matches.json()['data']['matches']) == 20:\n",
    "        new_matches = resp_matches.json()['data']['matches']\n",
    "        tsLastGame = new_matches[-1]['utcStartSeconds']\n",
    "        matches += new_matches\n",
    "    else:\n",
    "        matchesFound = False\n",
    "    time.sleep(0.2)\n",
    "        \n",
    "len(matches)"
   ]
  },
  {
   "cell_type": "markdown",
   "metadata": {},
   "source": [
    "## Match Modes"
   ]
  },
  {
   "cell_type": "markdown",
   "metadata": {},
   "source": [
    "## Calculate best games using Pandas DataFrames"
   ]
  },
  {
   "cell_type": "code",
   "execution_count": null,
   "metadata": {},
   "outputs": [],
   "source": [
    "df_matches = pd.DataFrame(matches)\n",
    "df_matches = df_matches[~df_matches['mode'].str.contains('dmz')]\n",
    "len(df_matches)\n",
    "df_matches = pd.concat([df_matches.drop(['playerStats'], axis=1), df_matches['playerStats'].apply(pd.Series)], axis=1)\n",
    "df_matches.sort_values(by=['kills', 'damageDone'], ascending=False, inplace=True)\n",
    "csv_top = df_matches[['kills', 'deaths', 'gulagKills', 'gulagDeaths', 'damageDone', 'damageTaken', 'mode', 'teamPlacement']]\n",
    "csv_top.to_csv(\"./top.csv\")"
   ]
  },
  {
   "cell_type": "code",
   "execution_count": null,
   "metadata": {},
   "outputs": [],
   "source": [
    "print(df_matches['kills'].sum())\n",
    "print(df_matches['deaths'].sum())\n",
    "print(df_matches['gulagDeaths'].sum())\n",
    "#print(df_matches[df_matches['gulagDeaths'] > 1].count())\n",
    "df_matches['kills'].sum()/df_matches['deaths'].sum()"
   ]
  },
  {
   "cell_type": "code",
   "execution_count": null,
   "metadata": {},
   "outputs": [],
   "source": [
    "df_matches['gulagKills'].sum()"
   ]
  },
  {
   "cell_type": "code",
   "execution_count": null,
   "metadata": {},
   "outputs": [],
   "source": [
    "df_matches[df_matches['gulagKills'] >= 1]['kills']"
   ]
  },
  {
   "cell_type": "code",
   "execution_count": null,
   "metadata": {},
   "outputs": [],
   "source": [
    "df_matches.groupby(['mode']).count().sort_values('mode')"
   ]
  },
  {
   "cell_type": "code",
   "execution_count": null,
   "metadata": {},
   "outputs": [],
   "source": [
    "print(matches[-1])"
   ]
  },
  {
   "cell_type": "code",
   "execution_count": null,
   "metadata": {},
   "outputs": [],
   "source": [
    "matchIds = []\n",
    "for match in matches:\n",
    "    matchIds.append(match['rankedTeams'])\n",
    "print(len(set(matchIds)))"
   ]
  },
  {
   "cell_type": "code",
   "execution_count": null,
   "metadata": {},
   "outputs": [],
   "source": [
    "matchModes = []\n",
    "for match in matches:\n",
    "    matchModes.append(match['gameType'])\n",
    "print(len(matchModes))\n",
    "modes = set(matchModes)\n",
    "print(modes)"
   ]
  },
  {
   "cell_type": "code",
   "execution_count": null,
   "metadata": {},
   "outputs": [],
   "source": [
    "for match in matches:\n",
    "    if match['mode'] == \"brtdm_113\":\n",
    "        print(match['playerStats']['gulagDeaths'])"
   ]
  },
  {
   "cell_type": "code",
   "execution_count": null,
   "metadata": {},
   "outputs": [],
   "source": [
    "totalWZMatches = 0\n",
    "totalGulags = 0\n",
    "totalGulagKills = 0\n",
    "totalGulagDeaths = 0\n",
    "totalKills = 0\n",
    "totalDeaths = 0\n",
    "for match in matches:\n",
    "    gulagKills = match['playerStats'].get('gulagKills', 0.0)\n",
    "    gulagDeaths = match['playerStats'].get('gulagDeaths', 0.0)\n",
    "    print(gulagDeaths)\n",
    "    if match['mode'] not in [\"br_dmz_plnbld\", \"brtdm_113\", \"br_dmz_104\", \"br_dmz_38\", \"br_dmz_85\"]:\n",
    "        print(str(match['playerStats']['kills']) + \"/\" + str(match['playerStats']['deaths']))\n",
    "        if gulagKills != 0.0 or gulagDeaths != 0.0:\n",
    "            totalGulags += 1\n",
    "            if gulagKills >= 1.0:\n",
    "                totalGulagKills += 1\n",
    "                print(\"Gulag Won!\")\n",
    "            if gulagDeaths >= 1.0:\n",
    "                totalGulagDeaths += 1\n",
    "                print(\"Gulag Lost!\")\n",
    "        totalWZMatches += 1\n",
    "        totalKills += match['playerStats']['kills']\n",
    "        totalDeaths += match['playerStats']['deaths']\n",
    "print(totalWZMatches)\n",
    "print(totalGulags)\n",
    "print(totalGulagKills)\n",
    "print(totalGulagDeaths)\n",
    "print(totalKills)\n",
    "print(totalDeaths)\n",
    "    "
   ]
  },
  {
   "cell_type": "code",
   "execution_count": null,
   "metadata": {},
   "outputs": [],
   "source": [
    "727/800"
   ]
  },
  {
   "cell_type": "code",
   "execution_count": null,
   "metadata": {},
   "outputs": [],
   "source": [
    "date_start = datetime(2000,1,1,0,0)\n",
    "date_start = int(time.mktime(date_start.timetuple()))\n",
    "date_start"
   ]
  },
  {
   "cell_type": "code",
   "execution_count": null,
   "metadata": {},
   "outputs": [],
   "source": []
  }
 ],
 "metadata": {
  "kernelspec": {
   "display_name": "Python 3",
   "language": "python",
   "name": "python3"
  },
  "language_info": {
   "codemirror_mode": {
    "name": "ipython",
    "version": 3
   },
   "file_extension": ".py",
   "mimetype": "text/x-python",
   "name": "python",
   "nbconvert_exporter": "python",
   "pygments_lexer": "ipython3",
   "version": "3.8.2"
  }
 },
 "nbformat": 4,
 "nbformat_minor": 4
}
